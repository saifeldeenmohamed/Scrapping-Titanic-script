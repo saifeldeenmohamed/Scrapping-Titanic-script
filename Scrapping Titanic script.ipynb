{
 "cells": [
  {
   "cell_type": "code",
   "execution_count": 11,
   "metadata": {},
   "outputs": [
    {
     "name": "stdout",
     "output_type": "stream",
     "text": [
      "Titanic (1997) - full transcript\n"
     ]
    }
   ],
   "source": [
    "from bs4 import BeautifulSoup\n",
    "import requests\n",
    "\n",
    "# How To Get The HTML\n",
    "website = 'https://subslikescript.com/movie/Titanic-120338'\n",
    "result = requests.get(website)\n",
    "content = result.text\n",
    "soup = BeautifulSoup(content, 'lxml')\n",
    "# print(soup.prettify())\n",
    "\n",
    "# Locate the box that contains title and transcript\n",
    "box = soup.find('article', class_='main-article')\n",
    "\n",
    "# Locate title and transcript\n",
    "title = box.find('h1').get_text()\n",
    "print(title)\n",
    "transcript = box.find('div', class_='full-script').get_text(strip=True, separator=' ')\n",
    "print(transcript)\n",
    "\n",
    "# export data in a text file with the \"title\" name.\n",
    "with open(f'{title}.txt', 'w',encoding=\"utf-8\") as file:\n",
    "    file.write(transcript)"
   ]
  }
 ],
 "metadata": {
  "kernelspec": {
   "display_name": "Python 3 (ipykernel)",
   "language": "python",
   "name": "python3"
  },
  "language_info": {
   "codemirror_mode": {
    "name": "ipython",
    "version": 3
   },
   "file_extension": ".py",
   "mimetype": "text/x-python",
   "name": "python",
   "nbconvert_exporter": "python",
   "pygments_lexer": "ipython3",
   "version": "3.7.10"
  }
 },
 "nbformat": 4,
 "nbformat_minor": 2
}
